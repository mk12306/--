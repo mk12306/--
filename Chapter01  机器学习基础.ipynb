{
 "cells": [
  {
   "cell_type": "markdown",
   "metadata": {},
   "source": [
    "# 何为机器学习？"
   ]
  },
  {
   "cell_type": "markdown",
   "metadata": {},
   "source": [
    "### 机器学习就是利用计算机来彰显数据背后的真实含义，就是把无序的数据转换成有用的信息"
   ]
  },
  {
   "cell_type": "markdown",
   "metadata": {},
   "source": [
    "# 机器学习的主要任务"
   ]
  },
  {
   "cell_type": "markdown",
   "metadata": {},
   "source": [
    "__·第一项任务是将实例数据划分到合适的分类中;__   \n",
    "__·第二项任务是回归，即用于预测数值型数据;__"
   ]
  },
  {
   "cell_type": "markdown",
   "metadata": {},
   "source": [
    "分类和回归属于 __监督学习__ ，即这类算法必须知道目标变量的分类信息;  \n",
    "与之对应的是__无监督学习__，此时数据没有类别信息，也不会给定目标值;  \n",
    "在无监督学习中，将数据集合分为由类似对象组成的多个类的过程称为__聚类__；将寻找描述数据统计值的过程称为__密度估计__；  \n",
    "此外，无监督学习还可以减少数据特征的维度，以便使用低维度展现数据信息。  \n",
    "\n",
    "![title](./picture/01机器学习算法.png)"
   ]
  },
  {
   "cell_type": "markdown",
   "metadata": {},
   "source": [
    "## 如何选择合适的算法"
   ]
  },
  {
   "cell_type": "markdown",
   "metadata": {},
   "source": [
    "#### ·首先考虑机器学习算法的目的：  \n",
    "    如果想要预测目标变量的值，则可以选择监督学习算法，否则可以选择无监督学习算法。确定选择监督学习算法之后，需要进一步确定目标变量类型，  \n",
    "    如果目标变量是离散型，如是/否、1/2/3、A/B/C或者红／黄／黑等，则可以选择分类器算法；如果目标变量是连续型的数值，如0.0-100.00、-999-999  \n",
    "    或者+oo-oo等，则需要选择回归算法。  \n",
    "    如果不想预测目标变量的值，则可以选择无监督学习算法。进一步分析是否需要将数据分为离散的组。如果这是唯一的需求，则选择无监督学习算法；  \n",
    "    如果还需要估计数据与每个分组的相似程度，则需要使用密度估计算法。  "
   ]
  },
  {
   "cell_type": "markdown",
   "metadata": {},
   "source": [
    "#### ·其次考虑数据问题,只有充分了解数据，才容易建立符合的模型：  \n",
    "    1、特征值是离散还是连续型变量；  \n",
    "    2、特征值是否存在缺失值，何种原因造成缺失值；  \n",
    "    3、数据是否存在异常值，某些特征发生的频率；\n",
    "    。。。"
   ]
  },
  {
   "cell_type": "markdown",
   "metadata": {},
   "source": [
    "## 只能在一定程度上缩小算法的选择范围，一般不存在所谓最好的算法，只能不断调试优化"
   ]
  },
  {
   "cell_type": "markdown",
   "metadata": {},
   "source": [
    "## 开发机器学习应用程序的步骤  \n",
    "\n",
    "·收集数据  \n",
    "·准备输入数据  \n",
    "·分析输入数据  \n",
    "·训练算法  \n",
    "·测试算法  \n",
    "·使用算法"
   ]
  },
  {
   "cell_type": "code",
   "execution_count": null,
   "metadata": {},
   "outputs": [],
   "source": []
  }
 ],
 "metadata": {
  "kernelspec": {
   "display_name": "Python 3",
   "language": "python",
   "name": "python3"
  },
  "language_info": {
   "codemirror_mode": {
    "name": "ipython",
    "version": 3
   },
   "file_extension": ".py",
   "mimetype": "text/x-python",
   "name": "python",
   "nbconvert_exporter": "python",
   "pygments_lexer": "ipython3",
   "version": "3.8.3"
  }
 },
 "nbformat": 4,
 "nbformat_minor": 4
}
