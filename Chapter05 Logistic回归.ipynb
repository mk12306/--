{
 "cells": [
  {
   "cell_type": "markdown",
   "metadata": {},
   "source": [
    "#### 回归：  \n",
    "\n",
    "利用一条直线对一些数据点进行拟合，这个拟合过程我们称为回归，而这条拟合的线我们称为最佳拟合直线。  \n",
    "\n",
    "但是Logistic回归是一种分类算法，其主要思想是：根据现有数据对分类边界线建立回归方程，以此进行分类。\n",
    "\n",
    "![title.png](./picture/05逻辑回归.png)\n",
    "\n",
    "对于逻辑回归进行分类，我们希望的是，<font color=\"red\" size = 4>能接受所有输入然后预测类别</font>\n",
    "\n",
    "例如，对于两种类别的情况下，输出应该为1或2，我们之前接触到的阶跃函数可以对应这种情况。  \n",
    "但是，阶跃函数存在一个问题是，从0到1的瞬时跳跃不够光滑，也即不可导，这样在数学上不容易处理。  \n",
    "因此，我们一般选择另一个具有相同性质且更方便处理的函数——sigmoid函数，如图\n",
    "![title.png](./picture/05阶跃函数.png)\n",
    "\n",
    "为了实现Logistic回归分类器，我们在每个特征上乘以一个回归系数，然后把所有值相加，最后将这个总和代入Sigmoid函数中，进而得到0-1之间的值，  \n",
    "然后取一个阈值进行分类，一般这个阈值我们选择0.5，即大于0.5归于一类，小于0.5归于一类，因此，Logistic可以看成是一类概率估计。\n",
    "\n",
    "现在问题转为<font color=\"red\" size = 4>如何确定最佳回归系数</font>"
   ]
  },
  {
   "cell_type": "markdown",
   "metadata": {},
   "source": [
    "### 基于最优化的方法确定最佳回归系数  \n",
    "\n",
    "#### 1.梯度上升法\n",
    "核心思想：要找到某函数的最大值，最好的方法是沿着该函数的梯度方向探寻。  \n",
    "\n",
    "如果梯度记为▽，则函数f(x, y)的梯度记为：\n",
    "![title.png](./picture/05梯度.png)  \n",
    "梯度其实就是沿着各个方向求偏导数，然后叠加这种效果，但是梯度反映的是变化最快的一个方向\n",
    "![title.png](./picture/05梯度上升.png)  \n",
    "梯度算子纵使沿着指向函数增长最快的方向。同时每次移动量的大小称为步长，用α表示\n",
    "![title.png](./picture/05迭代公式.png)\n",
    "\n",
    "事实上，梯度上升算法和梯度下降算法是一样的，只不过加法变成减法  \n",
    "<font color=\"red\" size = 4> 梯度上升算法用来计算函数的最大值，梯度下降算法用来计算函数的最小值</font>\n",
    "\n",
    "<font face=\"微软雅黑\"> <font color=\"red\" size = 6>Talk is cheap， show me the code.</font>"
   ]
  },
  {
   "cell_type": "markdown",
   "metadata": {},
   "source": [
    "#### 函数说明"
   ]
  },
  {
   "cell_type": "code",
   "execution_count": 7,
   "metadata": {},
   "outputs": [
    {
     "name": "stdout",
     "output_type": "stream",
     "text": [
      "3210Runoob0123\n"
     ]
    }
   ],
   "source": [
    "#strip() 返回移除字符串头尾指定的字符生成的新字符串\n",
    "str = \"00000003210Runoob01230000000\"; \n",
    "print(str.strip( '0' ))  # 去除首尾字符 0"
   ]
  },
  {
   "cell_type": "code",
   "execution_count": 18,
   "metadata": {},
   "outputs": [],
   "source": [
    "#Logistic 回归梯度上升优化算法\n",
    "import pandas as pd \n",
    "import numpy as np\n",
    "\n",
    "def loadDataSet(): #导入数据，读取文本\n",
    "    dataMat = []; labelMat = []\n",
    "    fr = open('./data/Logistic_testSet.txt')\n",
    "    for line in fr.readlines():\n",
    "        lineArr = line.strip().split()\n",
    "        dataMat.append([1.0, float(lineArr[0]), float(lineArr[1])])\n",
    "        labelMat.append(int(lineArr[2]))\n",
    "    return dataMat, labelMat\n",
    "\n",
    "def sigmoid(inX): #构建sigmoid函数\n",
    "    return 1.0 / (1 + np.exp(-inX))  #注意这里math.exp()用于标量，而np.exp()用于数组，两者存在区别\n",
    "\n",
    "def gradAscent(dataMatIn, classLabels):\n",
    "    dataMatrix = np.mat(dataMatIn)\n",
    "    labelMat = np.mat(classLabels).transpose()\n",
    "    m, n = np.shape(dataMatrix)\n",
    "    alpha = 0.001\n",
    "    maxCycles = 500\n",
    "    weigths = np.ones((n, 1))\n",
    "    for k in range(maxCycles):\n",
    "        h = sigmoid(dataMatrix * weigths) #h这里是一个列向量\n",
    "        error = (labelMat - h)\n",
    "        weigths += alpha * dataMatrix.transpose() * error #更新权重\n",
    "    return weigths   "
   ]
  },
  {
   "cell_type": "code",
   "execution_count": 19,
   "metadata": {},
   "outputs": [
    {
     "data": {
      "text/plain": [
       "array([[ 4.12414349],\n",
       "       [ 0.48007329],\n",
       "       [-0.6168482 ]])"
      ]
     },
     "execution_count": 19,
     "metadata": {},
     "output_type": "execute_result"
    }
   ],
   "source": [
    "#测试\n",
    "dataArr, labelMat = loadDataSet()\n",
    "gradAscent(dataArr, labelMat)"
   ]
  },
  {
   "cell_type": "code",
   "execution_count": 29,
   "metadata": {},
   "outputs": [
    {
     "data": {
      "image/png": "[encoded data removed]",
      "text/plain": [
       "<Figure size 432x288 with 1 Axes>"
      ]
     },
     "metadata": {
      "needs_background": "light"
     },
     "output_type": "display_data"
    }
   ],
   "source": [
    "def plotBestFit(wei):\n",
    "    import matplotlib.pyplot as plt\n",
    "    weights = wei\n",
    "    dataMat, labelMat = loadDataSet()\n",
    "    dataArr = np.array(dataMat)\n",
    "    n = np.shape(dataArr)[0]\n",
    "    xcord1 = []; ycord1 = []\n",
    "    xcord2 = []; ycord2 = []\n",
    "    for i in range(n):\n",
    "        if int(labelMat[i]) == 1:\n",
    "            xcord1.append(dataArr[i, 1]); ycord1.append(dataArr[i, 2])\n",
    "        else:\n",
    "            xcord2.append(dataArr[i, 1]); ycord2.append(dataArr[i, 2])\n",
    "    fig = plt.figure()\n",
    "    ax = fig.add_subplot(111)\n",
    "    ax.scatter(xcord1, ycord1, s = 30, c = 'red', marker = 's')\n",
    "    ax.scatter(xcord2, ycord2, s = 30, c = 'green')\n",
    "    x = np.arange(-3.0, 3.0, 0.1)\n",
    "    y = (-weights[0] - weights[1] * x) / weights[2]\n",
    "    ax.plot(x, y)\n",
    "    plt.xlabel('X1'); plt.ylabel('Y1')\n",
    "    plt.show()\n",
    "\n",
    "weights = gradAscent(dataArr, labelMat)\n",
    "plotBestFit(weights)"
   ]
  },
  {
   "cell_type": "markdown",
   "metadata": {},
   "source": [
    "#### 梯度上升算法每次更新回归系数时需要遍历整个数据集，对于样本较多的情况下并不适用。  \n",
    "\n",
    "改进：随机梯度上升算法—每次仅用一个样本点来更新回归系数  \n",
    "\n",
    "一次处理所有数据称为“批处理”"
   ]
  },
  {
   "cell_type": "code",
   "execution_count": 40,
   "metadata": {},
   "outputs": [
    {
     "name": "stdout",
     "output_type": "stream",
     "text": [
      "[ 1.01702007  0.85914348 -0.36579921]\n"
     ]
    },
    {
     "data": {
      "image/png": "[encoded data removed]",
      "text/plain": [
       "<Figure size 432x288 with 1 Axes>"
      ]
     },
     "metadata": {
      "needs_background": "light"
     },
     "output_type": "display_data"
    }
   ],
   "source": [
    "def stocGradAscent0(dataMatrix, classLabels):\n",
    "    m, n = np.shape(dataMatrix)\n",
    "    alpha = 0.01\n",
    "    weights = np.ones(n)\n",
    "    for i in range(m):\n",
    "        h = sigmoid(sum(dataMatrix[i] *weights))\n",
    "        error = classLabels[i] - h\n",
    "        weights += alpha * error * dataMatrix[i]\n",
    "    return weights\n",
    "\n",
    "dataArr, labelMat = loadDataSet()\n",
    "weights = stocGradAscent0(np.array(dataArr), labelMat)\n",
    "print(weights)\n",
    "plotBestFit(weights)"
   ]
  },
  {
   "cell_type": "markdown",
   "metadata": {},
   "source": [
    "#### 对比分析\n",
    "表面上看随机梯度上升方法不如批量梯度上升方法好，但这是因为后者在全部数据集上进行迭代，对比不公平  \n",
    "\n",
    "另外根据下图发现，随机梯度上升算法的参数X0，X1收敛较慢，并且还会存在波动，针对这种现象，我们改进算法  \n",
    "![title.png](./picture/05随机梯度上升参数收敛.png)"
   ]
  },
  {
   "cell_type": "code",
   "execution_count": 41,
   "metadata": {},
   "outputs": [
    {
     "name": "stdout",
     "output_type": "stream",
     "text": [
      "[13.73692487  1.33658039 -1.96914719]\n"
     ]
    },
    {
     "data": {
      "image/png": "[encoded data removed]",
      "text/plain": [
       "<Figure size 432x288 with 1 Axes>"
      ]
     },
     "metadata": {
      "needs_background": "light"
     },
     "output_type": "display_data"
    }
   ],
   "source": [
    "#优化的随机梯度上升算法\n",
    "#将alpha进行动态调整，以及随机选取状态更新\n",
    "\n",
    "import random\n",
    "def stocGradAscent1(dataMatrix, classLabels, numIter = 150):\n",
    "    m, n = np.shape(dataMatrix)\n",
    "#     alpha = 0.01\n",
    "    weights = np.ones(n)\n",
    "    \n",
    "    for j in range(numIter):\n",
    "        dataIndex = range(m)\n",
    "        for i in range(m):\n",
    "            alpha = 4 / (1.0 + j + i) + 0.01 #动态调整alpha\n",
    "            randIndex = int(random.uniform(0, len(dataIndex)))  #随机选取状态更新\n",
    "            h = sigmoid(sum(dataMatrix[randIndex] *weights))\n",
    "            error = classLabels[randIndex] - h\n",
    "            weights += alpha * error * dataMatrix[randIndex]\n",
    "    return weights\n",
    "\n",
    "dataArr, labelMat = loadDataSet()\n",
    "weights = stocGradAscent1(np.array(dataArr), labelMat)\n",
    "print(weights)\n",
    "plotBestFit(weights)"
   ]
  },
  {
   "cell_type": "markdown",
   "metadata": {},
   "source": [
    "### 示例：从疝气病预测病马的死亡率\n",
    "![title.png](./picture/05使用Logistic回归估计马疝病死率.png)\n",
    "\n",
    "#### 01准备数据：处理数据中的缺失值  \n",
    "\n",
    "当数据缺失时，扔掉和重新获取往往是不可取的，一般采用以下方案解决：  \n",
    "·使用可用特征值的均值来填充缺失值；  \n",
    "·使用特殊值来填充缺失值，如-1；  \n",
    "·忽略有缺失值样本；  \n",
    "·使用相似样本均值填补缺失值；  \n",
    "·使用另外的机器学习算法预测缺失值；  \n",
    "\n",
    "本题采用选择实数0来替代所有缺失值，这样的话在更新系数时不会影响系数的值\n",
    "\n",
    " weights += alpha * error * dataMatrix[randIndex]\n",
    " \n",
    "如果dataMatrix的某特征值对应0，那么该特征的系数将不进行更新，即：  \n",
    " weights = weights\n",
    " \n",
    "另外由于sigmoid(0) = 0.5,即对于预测不具有倾向性，因此对于误差也不产生影响\n",
    "\n",
    "原始数据处理后保存为horseColicTest.txt和horseColic-Training.txt\n",
    "\n",
    "#### 02用Logistic回归分类函数"
   ]
  },
  {
   "cell_type": "code",
   "execution_count": 46,
   "metadata": {},
   "outputs": [
    {
     "name": "stderr",
     "output_type": "stream",
     "text": [
      "<ipython-input-18-3f4057c48aea>:15: RuntimeWarning: overflow encountered in exp\n",
      "  return 1.0 / (1 + np.exp(-inX))\n"
     ]
    },
    {
     "name": "stdout",
     "output_type": "stream",
     "text": [
      "the error rate of this test is :0.119403\n",
      "the error rate of this test is :0.417910\n",
      "the error rate of this test is :0.164179\n",
      "the error rate of this test is :0.119403\n",
      "the error rate of this test is :0.134328\n",
      "the error rate of this test is :0.149254\n",
      "the error rate of this test is :0.194030\n",
      "the error rate of this test is :0.223881\n",
      "the error rate of this test is :0.283582\n",
      "the error rate of this test is :0.164179\n",
      "after 10 iterations the average error rate is: 0.197015\n"
     ]
    }
   ],
   "source": [
    "def classifyVector(inX, weights):   #用回归系数和特征向量作为输入来计算对应Sigmoid\n",
    "    prob = sigmoid(sum(inX*weights))\n",
    "    if  prob > 0.5 : return 1.0\n",
    "    else: return 0.0\n",
    "def colicTest():\n",
    "    frTrain = open('./data/horseColicTest.txt')\n",
    "    frTest = open('./data/horseColicTest.txt')\n",
    "    trainingSet = []; trainingLabels = []\n",
    "    for line in frTrain.readlines():\n",
    "        currLine = line.strip().split('\\t')\n",
    "        lineArr = []\n",
    "        for i in range(21):\n",
    "            lineArr.append(float(currLine[i]))\n",
    "        trainingSet.append(lineArr)\n",
    "        trainingLabels.append(float(currLine[21]))\n",
    "    trainWeights = stocGradAscent1(np.array(trainingSet), trainingLabels, 500)\n",
    "    errorCount = 0; numTestVec = 0.0\n",
    "    for line in frTest.readlines():\n",
    "        numTestVec += 1.0\n",
    "        currLine = line.strip().split('\\t')\n",
    "        lineArr = []\n",
    "        for i in range(21):\n",
    "            lineArr.append(float(currLine[i]))\n",
    "        if int(classifyVector(np.array(lineArr), trainWeights)) != int(currLine[21]):\n",
    "            errorCount += 1\n",
    "            \n",
    "    errorRate = (float(errorCount) / numTestVec)\n",
    "    print(\"the error rate of this test is :%f\" % errorRate)\n",
    "    return errorRate\n",
    "\n",
    "def multiTest():\n",
    "    numTests = 10; errorSum = 0.0\n",
    "    for k in range(numTests):\n",
    "        errorSum += colicTest()\n",
    "    print(\"after %d iterations the average error rate is: %f\" %(numTests, errorSum / float(numTests)))\n",
    "\n",
    "\n",
    "    \n",
    "multiTest()"
   ]
  },
  {
   "cell_type": "markdown",
   "metadata": {},
   "source": [
    "#### 总结一下：<font color=\"red\" size = 4>逻辑回归的本质是采用回归的思路拟合一条最优曲线，然后利用这条最优曲线对数据进行分类.</font>"
   ]
  },
  {
   "cell_type": "code",
   "execution_count": null,
   "metadata": {},
   "outputs": [],
   "source": []
  }
 ],
 "metadata": {
  "kernelspec": {
   "display_name": "Python 3",
   "language": "python",
   "name": "python3"
  },
  "language_info": {
   "codemirror_mode": {
    "name": "ipython",
    "version": 3
   },
   "file_extension": ".py",
   "mimetype": "text/x-python",
   "name": "python",
   "nbconvert_exporter": "python",
   "pygments_lexer": "ipython3",
   "version": "3.8.3"
  }
 },
 "nbformat": 4,
 "nbformat_minor": 4
}
